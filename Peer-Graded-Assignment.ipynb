{
 "cells": [
  {
   "cell_type": "markdown",
   "id": "32a2fdfc-a831-44d0-8c1d-935e8ce33d8a",
   "metadata": {},
   "source": [
    "<center>\n",
    "    <img src=\"https://cf-courses-data.s3.us.cloud-object-storage.appdomain.cloud/IBMDeveloperSkillsNetwork-DS0105EN-SkillsNetwork/labs/Module2/images/SN_web_lightmode.png\" width=\"300\" alt=\"cognitiveclass.ai logo\">\n",
    "</center>"
   ]
  },
  {
   "cell_type": "markdown",
   "id": "3488444a-d097-4d61-9465-fac4338bd344",
   "metadata": {},
   "source": [
    "<h1>My Jupyter Notebook on IBM Watson Studio</h1>"
   ]
  },
  {
   "cell_type": "markdown",
   "id": "edcbca39-01bb-4324-9a69-e25227821b09",
   "metadata": {},
   "source": [
    "__Sinan__<br>\n",
    "Data Analyst"
   ]
  },
  {
   "cell_type": "markdown",
   "id": "46ea9d12-c81e-4606-ac9e-ec64dead32b3",
   "metadata": {},
   "source": [
    "_I am interested in data science because I want to become a data scientist in finance industry and I believe data science is a field that offers a high degree of job satisfaction as I will be solving complex problems and making a real impact on businesses and society._"
   ]
  },
  {
   "cell_type": "markdown",
   "id": "a6bfb2d8-6515-4e29-831e-6d2ff4d9c5a2",
   "metadata": {},
   "source": [
    "<h3>Code below draws a heart using a for loop</h3>"
   ]
  },
  {
   "cell_type": "code",
   "execution_count": 3,
   "id": "f095d2ff-d877-43f5-a966-acde9969d34d",
   "metadata": {},
   "outputs": [
    {
     "name": "stdout",
     "output_type": "stream",
     "text": [
      " * *  * *  \n",
      "*   *   * \n",
      "*      * \n",
      " *    *  \n",
      "  *  *   \n",
      "   *    \n"
     ]
    }
   ],
   "source": [
    "for row in range(6):  \n",
    "    for col in range(7):  \n",
    "        if (row==0 and col %3 !=0) or(row==1 and col %3==0) or(row-col==2) or(row+col==8):  \n",
    "            print(\"*\",end=\" \")  \n",
    "        else:  \n",
    "            print(end=\" \")  \n",
    "    print() "
   ]
  },
  {
   "cell_type": "markdown",
   "id": "3df901cf-a312-43ef-907f-944c00e9a83c",
   "metadata": {},
   "source": [
    "<hr>\n",
    "<ul>\n",
    "    <li>ONE</li>\n",
    "    <li>TWO</li>\n",
    "    <li>THREE</li>\n",
    "    <li>FOUR</li>\n",
    "    <li>FIVE</li>\n",
    "</ul>\n",
    "<hr>\n",
    "<ol>\n",
    "    <li>Monday</li>\n",
    "    <li>Tuesday</li>\n",
    "    <li>Wednesday</li>\n",
    "    <li>Thursday</li>\n",
    "    <li>Friday</li>\n",
    "</ol>\n",
    "<hr>\n",
    "<table>\n",
    "  <tr>\n",
    "    <td>Name</td>\n",
    "    <td>Email</td>\n",
    "    <td>Address</td>\n",
    "  </tr>\n",
    "</table>\n",
    "<hr>\n",
    "<a href=\"https://www.ibm.com/us-en/\">IBM</a>"
   ]
  }
 ],
 "metadata": {
  "kernelspec": {
   "display_name": "Python",
   "language": "python",
   "name": "conda-env-python-py"
  },
  "language_info": {
   "codemirror_mode": {
    "name": "ipython",
    "version": 3
   },
   "file_extension": ".py",
   "mimetype": "text/x-python",
   "name": "python",
   "nbconvert_exporter": "python",
   "pygments_lexer": "ipython3",
   "version": "3.7.12"
  }
 },
 "nbformat": 4,
 "nbformat_minor": 5
}
